{
  "nbformat": 4,
  "nbformat_minor": 0,
  "metadata": {
    "colab": {
      "name": "Huffman_Encoding.ipynb",
      "provenance": [],
      "collapsed_sections": [],
      "authorship_tag": "ABX9TyMqVmTkwKIckbCxsJWCpNkC",
      "include_colab_link": true
    },
    "kernelspec": {
      "name": "python3",
      "display_name": "Python 3"
    },
    "language_info": {
      "name": "python"
    }
  },
  "cells": [
    {
      "cell_type": "markdown",
      "metadata": {
        "id": "view-in-github",
        "colab_type": "text"
      },
      "source": [
        "<a href=\"https://colab.research.google.com/github/muhammad-mobeen/Huffman-Encoding/blob/main/Huffman_Encoding.ipynb\" target=\"_parent\"><img src=\"https://colab.research.google.com/assets/colab-badge.svg\" alt=\"Open In Colab\"/></a>"
      ]
    },
    {
      "cell_type": "code",
      "source": [
        "class Node:\n",
        "  def __init__(nikal, left=None, right=None, frequency=None, char=None):\n",
        "    nikal.left = left\n",
        "    nikal.right = right\n",
        "    nikal.char = char\n",
        "    if left != None and right != None:\n",
        "      nikal.frequency = int(left.frequency) + int(right.frequency)\n",
        "    else:\n",
        "      nikal.frequency = int(frequency)\n",
        "\n",
        "class Huffman_Tree:\n",
        "  def __init__(bawah, freq_ls):\n",
        "    bawah.freq_ls = []\n",
        "    if type(freq_ls) == str:\n",
        "      minimize = ''.join(sorted(set(freq_ls), key=freq_ls.index))\n",
        "      for c in minimize:\n",
        "        bawah.freq_ls.append((c, int(freq_ls.count(c))))\n",
        "      bawah.freq_ls.sort(key= lambda x: x[1])\n",
        "    else:\n",
        "      bawah.freq_ls = freq_ls\n",
        "      bawah.freq_ls.sort(key= lambda x: x[1])\n",
        "\n",
        "    bawah.stack = bawah.make_stack(bawah.freq_ls)\n",
        "    \n",
        "    bawah.power_mali()\n",
        "\n",
        "    bawah.stck = []\n",
        "    bawah.huff_encode = []\n",
        "    bawah.traverse(bawah.stack[0])\n",
        "    bawah.huff_encode.sort(key= lambda x: len(x[1]))\n",
        "    for i, x in enumerate(bawah.huff_encode, 1):\n",
        "      print(f\"{i}. {x[0]}: {x[1]}\")    #Yes I myself wrote that, tryin new things ;)\n",
        "    \n",
        "    bawah.total_bits = 0\n",
        "    bawah.chr_bits = []\n",
        "    bawah.freq_ls.sort(key= lambda x: x[0])\n",
        "    bawah.huff_encode.sort(key= lambda x: x[0])\n",
        "    for i,c in enumerate(bawah.freq_ls):\n",
        "      product = c[1] * len(bawah.huff_encode[i][1])\n",
        "      bawah.total_bits += product\n",
        "      bawah.chr_bits.append((c[0], product))\n",
        "    print(f\"\\nTotal Bits: {bawah.total_bits} bits\")\n",
        "    bawah.avg_bits = bawah.total_bits/bawah.stack[0].frequency\n",
        "    bawah.avg_bits = float(\"{:.3}\".format(bawah.avg_bits))\n",
        "    print(f\"Average bits for each character representaion: {bawah.avg_bits} bits\")\n",
        "    \n",
        "    \n",
        "\n",
        "  def power_mali(bawah):       #mali == gardner in urdu, because it grows trees just like this function makes trees ;)\n",
        "    while len(bawah.stack) > 1:\n",
        "      bawah.stack.append(Node(bawah.stack.pop(0),bawah.stack.pop(0)))               #################### Maybe\n",
        "      bawah.stack.sort(key= lambda x: x.frequency)\n",
        "\n",
        "  def traverse(bawah, tree):  #Preorder Traversal here!\n",
        "    if tree:\n",
        "      if tree.char:\n",
        "        bawah.huff_encode.append((tree.char, ''.join(str(e) for e in bawah.stck)))\n",
        "      \n",
        "      #left\n",
        "      bawah.stck.append(0)\n",
        "      bawah.traverse(tree.left)\n",
        "      bawah.stck.pop(-1)\n",
        "      #right\n",
        "      bawah.stck.append(1)\n",
        "      bawah.traverse(tree.right)\n",
        "      bawah.stck.pop(-1)\n",
        "\n",
        "\n",
        "  def make_stack(bawah, fr):\n",
        "    bawa = []\n",
        "    for i in fr:\n",
        "      bawa.append(Node(None, None, i[1], i[0]))\n",
        "    bawa.sort(key= lambda x: x.frequency)\n",
        "    return bawa"
      ],
      "metadata": {
        "id": "krLnDAyjhzzB"
      },
      "execution_count": 1,
      "outputs": []
    },
    {
      "cell_type": "code",
      "execution_count": 2,
      "metadata": {
        "id": "r2hDC4tAaDxm"
      },
      "outputs": [],
      "source": [
        "string = \"BCAADDDCCACACAC\"\n",
        "frequency_ls = [('d', 5),('e', 3),('f', 2),('a', 50),('b', 10),('c', 30)]"
      ]
    },
    {
      "cell_type": "code",
      "source": [
        "yew = Huffman_Tree(string)"
      ],
      "metadata": {
        "colab": {
          "base_uri": "https://localhost:8080/"
        },
        "id": "3ai_87eVutXt",
        "outputId": "29cb51e3-b3d2-48d4-8a62-485654db5042"
      },
      "execution_count": 3,
      "outputs": [
        {
          "output_type": "stream",
          "name": "stdout",
          "text": [
            "1. C: 0\n",
            "2. A: 11\n",
            "3. B: 100\n",
            "4. D: 101\n",
            "\n",
            "Total Bits: 28 bits\n",
            "Average bits for each character representaion: 1.87 bits\n"
          ]
        }
      ]
    },
    {
      "cell_type": "code",
      "source": [
        "lol = Huffman_Tree(frequency_ls)"
      ],
      "metadata": {
        "colab": {
          "base_uri": "https://localhost:8080/"
        },
        "id": "ohRQXB7L0oND",
        "outputId": "4bda45a9-6f1a-4089-998a-3c5792387a0a"
      },
      "execution_count": 4,
      "outputs": [
        {
          "output_type": "stream",
          "name": "stdout",
          "text": [
            "1. a: 0\n",
            "2. c: 11\n",
            "3. b: 100\n",
            "4. d: 1010\n",
            "5. f: 10110\n",
            "6. e: 10111\n",
            "\n",
            "Total Bits: 185 bits\n",
            "Average bits for each character representaion: 1.85 bits\n"
          ]
        }
      ]
    }
  ]
}